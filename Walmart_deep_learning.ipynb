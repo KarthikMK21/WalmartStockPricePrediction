{
  "nbformat": 4,
  "nbformat_minor": 0,
  "metadata": {
    "colab": {
      "provenance": []
    },
    "kernelspec": {
      "name": "python3",
      "display_name": "Python 3"
    },
    "language_info": {
      "name": "python"
    },
    "accelerator": "GPU",
    "gpuClass": "standard"
  },
  "cells": [
    {
      "cell_type": "markdown",
      "source": [
        "### Loading basic libraries"
      ],
      "metadata": {
        "id": "DDMH_oePJCfw"
      }
    },
    {
      "cell_type": "code",
      "source": [
        "import numpy as np\n",
        "import pandas as pd\n",
        "import matplotlib.pyplot as plt\n",
        "import seaborn as sns"
      ],
      "metadata": {
        "id": "m7krk35Q_A2W"
      },
      "execution_count": null,
      "outputs": []
    },
    {
      "cell_type": "code",
      "source": [
        "import warnings\n",
        "warnings.filterwarnings(\"ignore\")"
      ],
      "metadata": {
        "id": "3cKComp_JR_X"
      },
      "execution_count": null,
      "outputs": []
    },
    {
      "cell_type": "markdown",
      "source": [
        "### Loading and reading data"
      ],
      "metadata": {
        "id": "Qu39vrcmJhm-"
      }
    },
    {
      "cell_type": "code",
      "source": [
        "df = pd.read_csv('WMT.csv',parse_dates = ['Date'])"
      ],
      "metadata": {
        "id": "48SbkDFjGW2c"
      },
      "execution_count": null,
      "outputs": []
    },
    {
      "cell_type": "code",
      "source": [
        "df.head()"
      ],
      "metadata": {
        "colab": {
          "base_uri": "https://localhost:8080/",
          "height": 206
        },
        "id": "u1U1U6qcLnzd",
        "outputId": "01eaea32-795a-49d4-8fdc-694efd22696d"
      },
      "execution_count": null,
      "outputs": [
        {
          "output_type": "execute_result",
          "data": {
            "text/plain": [
              "        Date      Open      High       Low     Close  Adj Close   Volume\n",
              "0 1972-08-25  0.063477  0.064697  0.063477  0.064453   0.036175  2508800\n",
              "1 1972-08-28  0.064453  0.064941  0.064209  0.064209   0.036038   972800\n",
              "2 1972-08-29  0.063965  0.063965  0.063477  0.063477   0.035627  1945600\n",
              "3 1972-08-30  0.063477  0.063477  0.062988  0.063477   0.035627   409600\n",
              "4 1972-08-31  0.062988  0.062988  0.062500  0.062500   0.035079   870400"
            ],
            "text/html": [
              "\n",
              "  <div id=\"df-dc446e27-3415-4d3a-a1bc-3bf82919b2d1\">\n",
              "    <div class=\"colab-df-container\">\n",
              "      <div>\n",
              "<style scoped>\n",
              "    .dataframe tbody tr th:only-of-type {\n",
              "        vertical-align: middle;\n",
              "    }\n",
              "\n",
              "    .dataframe tbody tr th {\n",
              "        vertical-align: top;\n",
              "    }\n",
              "\n",
              "    .dataframe thead th {\n",
              "        text-align: right;\n",
              "    }\n",
              "</style>\n",
              "<table border=\"1\" class=\"dataframe\">\n",
              "  <thead>\n",
              "    <tr style=\"text-align: right;\">\n",
              "      <th></th>\n",
              "      <th>Date</th>\n",
              "      <th>Open</th>\n",
              "      <th>High</th>\n",
              "      <th>Low</th>\n",
              "      <th>Close</th>\n",
              "      <th>Adj Close</th>\n",
              "      <th>Volume</th>\n",
              "    </tr>\n",
              "  </thead>\n",
              "  <tbody>\n",
              "    <tr>\n",
              "      <th>0</th>\n",
              "      <td>1972-08-25</td>\n",
              "      <td>0.063477</td>\n",
              "      <td>0.064697</td>\n",
              "      <td>0.063477</td>\n",
              "      <td>0.064453</td>\n",
              "      <td>0.036175</td>\n",
              "      <td>2508800</td>\n",
              "    </tr>\n",
              "    <tr>\n",
              "      <th>1</th>\n",
              "      <td>1972-08-28</td>\n",
              "      <td>0.064453</td>\n",
              "      <td>0.064941</td>\n",
              "      <td>0.064209</td>\n",
              "      <td>0.064209</td>\n",
              "      <td>0.036038</td>\n",
              "      <td>972800</td>\n",
              "    </tr>\n",
              "    <tr>\n",
              "      <th>2</th>\n",
              "      <td>1972-08-29</td>\n",
              "      <td>0.063965</td>\n",
              "      <td>0.063965</td>\n",
              "      <td>0.063477</td>\n",
              "      <td>0.063477</td>\n",
              "      <td>0.035627</td>\n",
              "      <td>1945600</td>\n",
              "    </tr>\n",
              "    <tr>\n",
              "      <th>3</th>\n",
              "      <td>1972-08-30</td>\n",
              "      <td>0.063477</td>\n",
              "      <td>0.063477</td>\n",
              "      <td>0.062988</td>\n",
              "      <td>0.063477</td>\n",
              "      <td>0.035627</td>\n",
              "      <td>409600</td>\n",
              "    </tr>\n",
              "    <tr>\n",
              "      <th>4</th>\n",
              "      <td>1972-08-31</td>\n",
              "      <td>0.062988</td>\n",
              "      <td>0.062988</td>\n",
              "      <td>0.062500</td>\n",
              "      <td>0.062500</td>\n",
              "      <td>0.035079</td>\n",
              "      <td>870400</td>\n",
              "    </tr>\n",
              "  </tbody>\n",
              "</table>\n",
              "</div>\n",
              "      <button class=\"colab-df-convert\" onclick=\"convertToInteractive('df-dc446e27-3415-4d3a-a1bc-3bf82919b2d1')\"\n",
              "              title=\"Convert this dataframe to an interactive table.\"\n",
              "              style=\"display:none;\">\n",
              "        \n",
              "  <svg xmlns=\"http://www.w3.org/2000/svg\" height=\"24px\"viewBox=\"0 0 24 24\"\n",
              "       width=\"24px\">\n",
              "    <path d=\"M0 0h24v24H0V0z\" fill=\"none\"/>\n",
              "    <path d=\"M18.56 5.44l.94 2.06.94-2.06 2.06-.94-2.06-.94-.94-2.06-.94 2.06-2.06.94zm-11 1L8.5 8.5l.94-2.06 2.06-.94-2.06-.94L8.5 2.5l-.94 2.06-2.06.94zm10 10l.94 2.06.94-2.06 2.06-.94-2.06-.94-.94-2.06-.94 2.06-2.06.94z\"/><path d=\"M17.41 7.96l-1.37-1.37c-.4-.4-.92-.59-1.43-.59-.52 0-1.04.2-1.43.59L10.3 9.45l-7.72 7.72c-.78.78-.78 2.05 0 2.83L4 21.41c.39.39.9.59 1.41.59.51 0 1.02-.2 1.41-.59l7.78-7.78 2.81-2.81c.8-.78.8-2.07 0-2.86zM5.41 20L4 18.59l7.72-7.72 1.47 1.35L5.41 20z\"/>\n",
              "  </svg>\n",
              "      </button>\n",
              "      \n",
              "  <style>\n",
              "    .colab-df-container {\n",
              "      display:flex;\n",
              "      flex-wrap:wrap;\n",
              "      gap: 12px;\n",
              "    }\n",
              "\n",
              "    .colab-df-convert {\n",
              "      background-color: #E8F0FE;\n",
              "      border: none;\n",
              "      border-radius: 50%;\n",
              "      cursor: pointer;\n",
              "      display: none;\n",
              "      fill: #1967D2;\n",
              "      height: 32px;\n",
              "      padding: 0 0 0 0;\n",
              "      width: 32px;\n",
              "    }\n",
              "\n",
              "    .colab-df-convert:hover {\n",
              "      background-color: #E2EBFA;\n",
              "      box-shadow: 0px 1px 2px rgba(60, 64, 67, 0.3), 0px 1px 3px 1px rgba(60, 64, 67, 0.15);\n",
              "      fill: #174EA6;\n",
              "    }\n",
              "\n",
              "    [theme=dark] .colab-df-convert {\n",
              "      background-color: #3B4455;\n",
              "      fill: #D2E3FC;\n",
              "    }\n",
              "\n",
              "    [theme=dark] .colab-df-convert:hover {\n",
              "      background-color: #434B5C;\n",
              "      box-shadow: 0px 1px 3px 1px rgba(0, 0, 0, 0.15);\n",
              "      filter: drop-shadow(0px 1px 2px rgba(0, 0, 0, 0.3));\n",
              "      fill: #FFFFFF;\n",
              "    }\n",
              "  </style>\n",
              "\n",
              "      <script>\n",
              "        const buttonEl =\n",
              "          document.querySelector('#df-dc446e27-3415-4d3a-a1bc-3bf82919b2d1 button.colab-df-convert');\n",
              "        buttonEl.style.display =\n",
              "          google.colab.kernel.accessAllowed ? 'block' : 'none';\n",
              "\n",
              "        async function convertToInteractive(key) {\n",
              "          const element = document.querySelector('#df-dc446e27-3415-4d3a-a1bc-3bf82919b2d1');\n",
              "          const dataTable =\n",
              "            await google.colab.kernel.invokeFunction('convertToInteractive',\n",
              "                                                     [key], {});\n",
              "          if (!dataTable) return;\n",
              "\n",
              "          const docLinkHtml = 'Like what you see? Visit the ' +\n",
              "            '<a target=\"_blank\" href=https://colab.research.google.com/notebooks/data_table.ipynb>data table notebook</a>'\n",
              "            + ' to learn more about interactive tables.';\n",
              "          element.innerHTML = '';\n",
              "          dataTable['output_type'] = 'display_data';\n",
              "          await google.colab.output.renderOutput(dataTable, element);\n",
              "          const docLink = document.createElement('div');\n",
              "          docLink.innerHTML = docLinkHtml;\n",
              "          element.appendChild(docLink);\n",
              "        }\n",
              "      </script>\n",
              "    </div>\n",
              "  </div>\n",
              "  "
            ]
          },
          "metadata": {},
          "execution_count": 42
        }
      ]
    },
    {
      "cell_type": "code",
      "source": [
        "df.shape"
      ],
      "metadata": {
        "colab": {
          "base_uri": "https://localhost:8080/"
        },
        "id": "-zsLr7FXHFsD",
        "outputId": "874084a6-9966-4730-8cd6-0ac8e5abeb24"
      },
      "execution_count": null,
      "outputs": [
        {
          "output_type": "execute_result",
          "data": {
            "text/plain": [
              "(12566, 7)"
            ]
          },
          "metadata": {},
          "execution_count": 43
        }
      ]
    },
    {
      "cell_type": "code",
      "source": [
        "df.info()"
      ],
      "metadata": {
        "colab": {
          "base_uri": "https://localhost:8080/"
        },
        "id": "JMYkw4E4IFBh",
        "outputId": "6ba168fd-12bc-4372-c58c-2ee90b36fe25"
      },
      "execution_count": null,
      "outputs": [
        {
          "output_type": "stream",
          "name": "stdout",
          "text": [
            "<class 'pandas.core.frame.DataFrame'>\n",
            "RangeIndex: 12566 entries, 0 to 12565\n",
            "Data columns (total 7 columns):\n",
            " #   Column     Non-Null Count  Dtype         \n",
            "---  ------     --------------  -----         \n",
            " 0   Date       12566 non-null  datetime64[ns]\n",
            " 1   Open       12566 non-null  float64       \n",
            " 2   High       12566 non-null  float64       \n",
            " 3   Low        12566 non-null  float64       \n",
            " 4   Close      12566 non-null  float64       \n",
            " 5   Adj Close  12566 non-null  float64       \n",
            " 6   Volume     12566 non-null  int64         \n",
            "dtypes: datetime64[ns](1), float64(5), int64(1)\n",
            "memory usage: 687.3 KB\n"
          ]
        }
      ]
    },
    {
      "cell_type": "markdown",
      "source": [
        "**Checking the started date and the last date**"
      ],
      "metadata": {
        "id": "IeTHPLikJoYd"
      }
    },
    {
      "cell_type": "code",
      "source": [
        "## Starting date\n",
        "df.Date.min()"
      ],
      "metadata": {
        "colab": {
          "base_uri": "https://localhost:8080/"
        },
        "id": "aqlGhy5GItOL",
        "outputId": "9b63d700-6ed0-46c4-c203-2812138038ee"
      },
      "execution_count": null,
      "outputs": [
        {
          "output_type": "execute_result",
          "data": {
            "text/plain": [
              "Timestamp('1972-08-25 00:00:00')"
            ]
          },
          "metadata": {},
          "execution_count": 45
        }
      ]
    },
    {
      "cell_type": "code",
      "source": [
        "## Last_date\n",
        "df.Date.max()"
      ],
      "metadata": {
        "colab": {
          "base_uri": "https://localhost:8080/"
        },
        "id": "G2JTarA7MYKm",
        "outputId": "b57528ca-8329-4895-9c6b-9123c7029bd1"
      },
      "execution_count": null,
      "outputs": [
        {
          "output_type": "execute_result",
          "data": {
            "text/plain": [
              "Timestamp('2022-06-24 00:00:00')"
            ]
          },
          "metadata": {},
          "execution_count": 46
        }
      ]
    },
    {
      "cell_type": "markdown",
      "source": [
        "### Setting date column as index"
      ],
      "metadata": {
        "id": "rL5Vr40eM7VD"
      }
    },
    {
      "cell_type": "code",
      "source": [
        "df.set_index('Date', inplace = True)"
      ],
      "metadata": {
        "id": "W5jpE-VQLxBU"
      },
      "execution_count": null,
      "outputs": []
    },
    {
      "cell_type": "code",
      "source": [
        "df.head()"
      ],
      "metadata": {
        "colab": {
          "base_uri": "https://localhost:8080/",
          "height": 238
        },
        "id": "OTwNQePXMwNr",
        "outputId": "8076e246-fbb9-4c76-90d6-a3f86885905f"
      },
      "execution_count": null,
      "outputs": [
        {
          "output_type": "execute_result",
          "data": {
            "text/plain": [
              "                Open      High       Low     Close  Adj Close   Volume\n",
              "Date                                                                  \n",
              "1972-08-25  0.063477  0.064697  0.063477  0.064453   0.036175  2508800\n",
              "1972-08-28  0.064453  0.064941  0.064209  0.064209   0.036038   972800\n",
              "1972-08-29  0.063965  0.063965  0.063477  0.063477   0.035627  1945600\n",
              "1972-08-30  0.063477  0.063477  0.062988  0.063477   0.035627   409600\n",
              "1972-08-31  0.062988  0.062988  0.062500  0.062500   0.035079   870400"
            ],
            "text/html": [
              "\n",
              "  <div id=\"df-e1ca18b1-3c58-48c1-bd4d-3fd8b0a56f82\">\n",
              "    <div class=\"colab-df-container\">\n",
              "      <div>\n",
              "<style scoped>\n",
              "    .dataframe tbody tr th:only-of-type {\n",
              "        vertical-align: middle;\n",
              "    }\n",
              "\n",
              "    .dataframe tbody tr th {\n",
              "        vertical-align: top;\n",
              "    }\n",
              "\n",
              "    .dataframe thead th {\n",
              "        text-align: right;\n",
              "    }\n",
              "</style>\n",
              "<table border=\"1\" class=\"dataframe\">\n",
              "  <thead>\n",
              "    <tr style=\"text-align: right;\">\n",
              "      <th></th>\n",
              "      <th>Open</th>\n",
              "      <th>High</th>\n",
              "      <th>Low</th>\n",
              "      <th>Close</th>\n",
              "      <th>Adj Close</th>\n",
              "      <th>Volume</th>\n",
              "    </tr>\n",
              "    <tr>\n",
              "      <th>Date</th>\n",
              "      <th></th>\n",
              "      <th></th>\n",
              "      <th></th>\n",
              "      <th></th>\n",
              "      <th></th>\n",
              "      <th></th>\n",
              "    </tr>\n",
              "  </thead>\n",
              "  <tbody>\n",
              "    <tr>\n",
              "      <th>1972-08-25</th>\n",
              "      <td>0.063477</td>\n",
              "      <td>0.064697</td>\n",
              "      <td>0.063477</td>\n",
              "      <td>0.064453</td>\n",
              "      <td>0.036175</td>\n",
              "      <td>2508800</td>\n",
              "    </tr>\n",
              "    <tr>\n",
              "      <th>1972-08-28</th>\n",
              "      <td>0.064453</td>\n",
              "      <td>0.064941</td>\n",
              "      <td>0.064209</td>\n",
              "      <td>0.064209</td>\n",
              "      <td>0.036038</td>\n",
              "      <td>972800</td>\n",
              "    </tr>\n",
              "    <tr>\n",
              "      <th>1972-08-29</th>\n",
              "      <td>0.063965</td>\n",
              "      <td>0.063965</td>\n",
              "      <td>0.063477</td>\n",
              "      <td>0.063477</td>\n",
              "      <td>0.035627</td>\n",
              "      <td>1945600</td>\n",
              "    </tr>\n",
              "    <tr>\n",
              "      <th>1972-08-30</th>\n",
              "      <td>0.063477</td>\n",
              "      <td>0.063477</td>\n",
              "      <td>0.062988</td>\n",
              "      <td>0.063477</td>\n",
              "      <td>0.035627</td>\n",
              "      <td>409600</td>\n",
              "    </tr>\n",
              "    <tr>\n",
              "      <th>1972-08-31</th>\n",
              "      <td>0.062988</td>\n",
              "      <td>0.062988</td>\n",
              "      <td>0.062500</td>\n",
              "      <td>0.062500</td>\n",
              "      <td>0.035079</td>\n",
              "      <td>870400</td>\n",
              "    </tr>\n",
              "  </tbody>\n",
              "</table>\n",
              "</div>\n",
              "      <button class=\"colab-df-convert\" onclick=\"convertToInteractive('df-e1ca18b1-3c58-48c1-bd4d-3fd8b0a56f82')\"\n",
              "              title=\"Convert this dataframe to an interactive table.\"\n",
              "              style=\"display:none;\">\n",
              "        \n",
              "  <svg xmlns=\"http://www.w3.org/2000/svg\" height=\"24px\"viewBox=\"0 0 24 24\"\n",
              "       width=\"24px\">\n",
              "    <path d=\"M0 0h24v24H0V0z\" fill=\"none\"/>\n",
              "    <path d=\"M18.56 5.44l.94 2.06.94-2.06 2.06-.94-2.06-.94-.94-2.06-.94 2.06-2.06.94zm-11 1L8.5 8.5l.94-2.06 2.06-.94-2.06-.94L8.5 2.5l-.94 2.06-2.06.94zm10 10l.94 2.06.94-2.06 2.06-.94-2.06-.94-.94-2.06-.94 2.06-2.06.94z\"/><path d=\"M17.41 7.96l-1.37-1.37c-.4-.4-.92-.59-1.43-.59-.52 0-1.04.2-1.43.59L10.3 9.45l-7.72 7.72c-.78.78-.78 2.05 0 2.83L4 21.41c.39.39.9.59 1.41.59.51 0 1.02-.2 1.41-.59l7.78-7.78 2.81-2.81c.8-.78.8-2.07 0-2.86zM5.41 20L4 18.59l7.72-7.72 1.47 1.35L5.41 20z\"/>\n",
              "  </svg>\n",
              "      </button>\n",
              "      \n",
              "  <style>\n",
              "    .colab-df-container {\n",
              "      display:flex;\n",
              "      flex-wrap:wrap;\n",
              "      gap: 12px;\n",
              "    }\n",
              "\n",
              "    .colab-df-convert {\n",
              "      background-color: #E8F0FE;\n",
              "      border: none;\n",
              "      border-radius: 50%;\n",
              "      cursor: pointer;\n",
              "      display: none;\n",
              "      fill: #1967D2;\n",
              "      height: 32px;\n",
              "      padding: 0 0 0 0;\n",
              "      width: 32px;\n",
              "    }\n",
              "\n",
              "    .colab-df-convert:hover {\n",
              "      background-color: #E2EBFA;\n",
              "      box-shadow: 0px 1px 2px rgba(60, 64, 67, 0.3), 0px 1px 3px 1px rgba(60, 64, 67, 0.15);\n",
              "      fill: #174EA6;\n",
              "    }\n",
              "\n",
              "    [theme=dark] .colab-df-convert {\n",
              "      background-color: #3B4455;\n",
              "      fill: #D2E3FC;\n",
              "    }\n",
              "\n",
              "    [theme=dark] .colab-df-convert:hover {\n",
              "      background-color: #434B5C;\n",
              "      box-shadow: 0px 1px 3px 1px rgba(0, 0, 0, 0.15);\n",
              "      filter: drop-shadow(0px 1px 2px rgba(0, 0, 0, 0.3));\n",
              "      fill: #FFFFFF;\n",
              "    }\n",
              "  </style>\n",
              "\n",
              "      <script>\n",
              "        const buttonEl =\n",
              "          document.querySelector('#df-e1ca18b1-3c58-48c1-bd4d-3fd8b0a56f82 button.colab-df-convert');\n",
              "        buttonEl.style.display =\n",
              "          google.colab.kernel.accessAllowed ? 'block' : 'none';\n",
              "\n",
              "        async function convertToInteractive(key) {\n",
              "          const element = document.querySelector('#df-e1ca18b1-3c58-48c1-bd4d-3fd8b0a56f82');\n",
              "          const dataTable =\n",
              "            await google.colab.kernel.invokeFunction('convertToInteractive',\n",
              "                                                     [key], {});\n",
              "          if (!dataTable) return;\n",
              "\n",
              "          const docLinkHtml = 'Like what you see? Visit the ' +\n",
              "            '<a target=\"_blank\" href=https://colab.research.google.com/notebooks/data_table.ipynb>data table notebook</a>'\n",
              "            + ' to learn more about interactive tables.';\n",
              "          element.innerHTML = '';\n",
              "          dataTable['output_type'] = 'display_data';\n",
              "          await google.colab.output.renderOutput(dataTable, element);\n",
              "          const docLink = document.createElement('div');\n",
              "          docLink.innerHTML = docLinkHtml;\n",
              "          element.appendChild(docLink);\n",
              "        }\n",
              "      </script>\n",
              "    </div>\n",
              "  </div>\n",
              "  "
            ]
          },
          "metadata": {},
          "execution_count": 48
        }
      ]
    },
    {
      "cell_type": "code",
      "source": [
        "## Train and test plot function\n",
        "tstart = 1972\n",
        "tend = 2019\n",
        "\n",
        "def train_test_plot(dataset, tstart, tend):\n",
        "  df.loc[f'{tstart}':f'{tend}', 'Close'].plot(figsize = (12,6), legend = True)\n",
        "  df.loc[f'{tend+1}':,'Close'].plot(figsize = (12,6), legend = True)\n",
        "  plt.legend([f'Train(Before {tend +1})', f'Test({tend+1} and beyond)'])\n",
        "  plt.title('Walmart Stock price')\n",
        "  plt.show()\n",
        "\n",
        "train_test_plot(df, tstart, tend)"
      ],
      "metadata": {
        "colab": {
          "base_uri": "https://localhost:8080/",
          "height": 383
        },
        "id": "80OO4vh9N7fk",
        "outputId": "b05ec3ba-ad64-47e9-8368-85dd43f5e342"
      },
      "execution_count": null,
      "outputs": [
        {
          "output_type": "display_data",
          "data": {
            "text/plain": [
              "<Figure size 864x432 with 1 Axes>"
            ],
            "image/png": "[encoded data removed]"
          },
          "metadata": {
            "needs_background": "light"
          }
        }
      ]
    },
    {
      "cell_type": "markdown",
      "source": [
        "## Splitting the train and test data using function"
      ],
      "metadata": {
        "id": "YYI5tGbGVxst"
      }
    },
    {
      "cell_type": "code",
      "source": [
        "def train_test_split(dataset, tstart, tend):\n",
        "  train = df.loc[f'{tstart}':f'{tend}', 'Close'].values\n",
        "  test = df.loc[f'{tend+1}':,'Close'].values\n",
        "  return train, test\n",
        "training_set, test_set = train_test_split(df, tstart, tend)\n"
      ],
      "metadata": {
        "id": "n6RuSe3XU_Lt"
      },
      "execution_count": null,
      "outputs": []
    },
    {
      "cell_type": "markdown",
      "source": [
        "## Scaling the data using minmax scaler"
      ],
      "metadata": {
        "id": "5wfI1lVLV5qp"
      }
    },
    {
      "cell_type": "code",
      "source": [
        "from sklearn.preprocessing import MinMaxScaler"
      ],
      "metadata": {
        "id": "2wzj7JQSWBgw"
      },
      "execution_count": null,
      "outputs": []
    },
    {
      "cell_type": "code",
      "source": [
        "sc = MinMaxScaler(feature_range = (0,1))\n",
        "training_set = training_set.reshape(-1,1)\n",
        "training_set_scaled = sc.fit_transform(training_set)"
      ],
      "metadata": {
        "id": "0_nzxai1VrxO"
      },
      "execution_count": null,
      "outputs": []
    },
    {
      "cell_type": "markdown",
      "source": [
        "## Creating input data"
      ],
      "metadata": {
        "id": "R0lTRaPcWKCr"
      }
    },
    {
      "cell_type": "code",
      "source": [
        "training_set[0:60], training_set[60]"
      ],
      "metadata": {
        "colab": {
          "base_uri": "https://localhost:8080/"
        },
        "id": "1Is6Yc9CV94j",
        "outputId": "1b90e7aa-01cd-4d40-f924-50174fbd51a7"
      },
      "execution_count": null,
      "outputs": [
        {
          "output_type": "execute_result",
          "data": {
            "text/plain": [
              "(array([[0.064453],\n",
              "        [0.064209],\n",
              "        [0.063477],\n",
              "        [0.063477],\n",
              "        [0.0625  ],\n",
              "        [0.062988],\n",
              "        [0.0625  ],\n",
              "        [0.062988],\n",
              "        [0.062744],\n",
              "        [0.062256],\n",
              "        [0.062744],\n",
              "        [0.062744],\n",
              "        [0.062744],\n",
              "        [0.063232],\n",
              "        [0.062744],\n",
              "        [0.062988],\n",
              "        [0.0625  ],\n",
              "        [0.062012],\n",
              "        [0.060059],\n",
              "        [0.057861],\n",
              "        [0.056152],\n",
              "        [0.055908],\n",
              "        [0.054688],\n",
              "        [0.056152],\n",
              "        [0.056885],\n",
              "        [0.05957 ],\n",
              "        [0.060547],\n",
              "        [0.061768],\n",
              "        [0.060059],\n",
              "        [0.057617],\n",
              "        [0.058594],\n",
              "        [0.058594],\n",
              "        [0.058838],\n",
              "        [0.05835 ],\n",
              "        [0.05835 ],\n",
              "        [0.056885],\n",
              "        [0.057861],\n",
              "        [0.062012],\n",
              "        [0.062256],\n",
              "        [0.061768],\n",
              "        [0.061523],\n",
              "        [0.061768],\n",
              "        [0.060547],\n",
              "        [0.061035],\n",
              "        [0.061279],\n",
              "        [0.061035],\n",
              "        [0.062988],\n",
              "        [0.065918],\n",
              "        [0.066406],\n",
              "        [0.066162],\n",
              "        [0.066162],\n",
              "        [0.066895],\n",
              "        [0.066895],\n",
              "        [0.066895],\n",
              "        [0.06665 ],\n",
              "        [0.065918],\n",
              "        [0.065674],\n",
              "        [0.065918],\n",
              "        [0.065674],\n",
              "        [0.06543 ]]), array([0.066895]))"
            ]
          },
          "metadata": {},
          "execution_count": 53
        }
      ]
    },
    {
      "cell_type": "code",
      "source": [
        "def split_sequence(sequence,n_steps):\n",
        "  X,y=list(),list()\n",
        "  for i in range(len(sequence)):\n",
        "    end_ix=i+ n_steps\n",
        "    if end_ix >len(sequence)-1:\n",
        "      break\n",
        "    seq_x, seq_y, = sequence[i:end_ix], sequence[end_ix]\n",
        "    X.append(seq_x)\n",
        "    y.append(seq_y)\n",
        "  return np.array(X), np.array(y)\n",
        "\n",
        "\n",
        "n_steps=60\n",
        "features =1 \n",
        "# split into samples \n",
        "X_train, y_train=split_sequence(training_set_scaled, n_steps)"
      ],
      "metadata": {
        "id": "_btLSg0sWMWl"
      },
      "execution_count": null,
      "outputs": []
    },
    {
      "cell_type": "code",
      "source": [
        "## Reshaping X_train for model\n",
        "X_train = X_train.reshape(X_train.shape[0], X_train.shape[1], features)"
      ],
      "metadata": {
        "id": "BhsGxWWeWQyo"
      },
      "execution_count": null,
      "outputs": []
    },
    {
      "cell_type": "code",
      "source": [
        "X_train.shape"
      ],
      "metadata": {
        "colab": {
          "base_uri": "https://localhost:8080/"
        },
        "id": "wal6h47oWTto",
        "outputId": "3c48c8bb-c9f9-40b0-ac5a-01d0ae8fd27a"
      },
      "execution_count": null,
      "outputs": [
        {
          "output_type": "execute_result",
          "data": {
            "text/plain": [
              "(11881, 60, 1)"
            ]
          },
          "metadata": {},
          "execution_count": 56
        }
      ]
    },
    {
      "cell_type": "code",
      "source": [
        "from tensorflow.keras.models import Sequential\n",
        "from tensorflow.keras.layers import Dense, Dropout, LSTM, GRU, Bidirectional\n",
        "from tensorflow.random import set_seed\n",
        "\n",
        "set_seed(455)\n",
        "np.random.seed(455)"
      ],
      "metadata": {
        "id": "K8qk_BKiWYgC"
      },
      "execution_count": null,
      "outputs": []
    },
    {
      "cell_type": "code",
      "source": [
        "# The LSTM architecture\n",
        "model_lstm = Sequential()\n",
        "\n",
        "## RNN Layer\n",
        "model_lstm.add(LSTM(units=150, activation=\"tanh\", input_shape=(n_steps, features)))\n",
        "\n",
        "## Output Layer\n",
        "model_lstm.add(Dense(units=1))\n",
        "\n",
        "# Compiling the model\n",
        "model_lstm.compile(optimizer=\"RMSprop\", loss=\"mse\")"
      ],
      "metadata": {
        "id": "sS0c9ZkyWVqp"
      },
      "execution_count": null,
      "outputs": []
    },
    {
      "cell_type": "code",
      "source": [
        "## Fitting the model\n",
        "model_lstm.fit(X_train, y_train, epochs=50, batch_size=32)"
      ],
      "metadata": {
        "colab": {
          "base_uri": "https://localhost:8080/"
        },
        "id": "ilNYg31_WbOp",
        "outputId": "e8d9bf76-52fa-4147-e8df-265ff2446f75"
      },
      "execution_count": null,
      "outputs": [
        {
          "output_type": "stream",
          "name": "stdout",
          "text": [
            "Epoch 1/50\n",
            "372/372 [==============================] - 4s 7ms/step - loss: 0.0019\n",
            "Epoch 2/50\n",
            "372/372 [==============================] - 2s 7ms/step - loss: 3.6022e-04\n",
            "Epoch 3/50\n",
            "372/372 [==============================] - 2s 6ms/step - loss: 2.5913e-04\n",
            "Epoch 4/50\n",
            "372/372 [==============================] - 3s 7ms/step - loss: 1.9799e-04\n",
            "Epoch 5/50\n",
            "372/372 [==============================] - 4s 10ms/step - loss: 1.7502e-04\n",
            "Epoch 6/50\n",
            "372/372 [==============================] - 4s 11ms/step - loss: 1.4518e-04\n",
            "Epoch 7/50\n",
            "372/372 [==============================] - 4s 12ms/step - loss: 1.2875e-04\n",
            "Epoch 8/50\n",
            "372/372 [==============================] - 4s 12ms/step - loss: 1.1799e-04\n",
            "Epoch 9/50\n",
            "372/372 [==============================] - 3s 9ms/step - loss: 1.0342e-04\n",
            "Epoch 10/50\n",
            "372/372 [==============================] - 2s 6ms/step - loss: 9.7959e-05\n",
            "Epoch 11/50\n",
            "372/372 [==============================] - 2s 6ms/step - loss: 9.4383e-05\n",
            "Epoch 12/50\n",
            "372/372 [==============================] - 2s 7ms/step - loss: 9.1055e-05\n",
            "Epoch 13/50\n",
            "372/372 [==============================] - 2s 7ms/step - loss: 8.3965e-05\n",
            "Epoch 14/50\n",
            "372/372 [==============================] - 2s 6ms/step - loss: 8.4607e-05\n",
            "Epoch 15/50\n",
            "372/372 [==============================] - 2s 6ms/step - loss: 7.8499e-05\n",
            "Epoch 16/50\n",
            "372/372 [==============================] - 2s 6ms/step - loss: 7.6219e-05\n",
            "Epoch 17/50\n",
            "372/372 [==============================] - 2s 6ms/step - loss: 7.2545e-05\n",
            "Epoch 18/50\n",
            "372/372 [==============================] - 2s 6ms/step - loss: 7.1393e-05\n",
            "Epoch 19/50\n",
            "372/372 [==============================] - 3s 8ms/step - loss: 7.0528e-05\n",
            "Epoch 20/50\n",
            "372/372 [==============================] - 2s 7ms/step - loss: 6.5849e-05\n",
            "Epoch 21/50\n",
            "372/372 [==============================] - 2s 6ms/step - loss: 6.5639e-05\n",
            "Epoch 22/50\n",
            "372/372 [==============================] - 2s 6ms/step - loss: 6.1548e-05\n",
            "Epoch 23/50\n",
            "372/372 [==============================] - 2s 6ms/step - loss: 6.2507e-05\n",
            "Epoch 24/50\n",
            "372/372 [==============================] - 2s 6ms/step - loss: 6.0116e-05\n",
            "Epoch 25/50\n",
            "372/372 [==============================] - 2s 6ms/step - loss: 6.0197e-05\n",
            "Epoch 26/50\n",
            "372/372 [==============================] - 2s 6ms/step - loss: 5.9313e-05\n",
            "Epoch 27/50\n",
            "372/372 [==============================] - 2s 6ms/step - loss: 5.8282e-05\n",
            "Epoch 28/50\n",
            "372/372 [==============================] - 2s 6ms/step - loss: 5.7923e-05\n",
            "Epoch 29/50\n",
            "372/372 [==============================] - 2s 6ms/step - loss: 5.6864e-05\n",
            "Epoch 30/50\n",
            "372/372 [==============================] - 2s 6ms/step - loss: 5.6769e-05\n",
            "Epoch 31/50\n",
            "372/372 [==============================] - 2s 6ms/step - loss: 5.5591e-05\n",
            "Epoch 32/50\n",
            "372/372 [==============================] - 2s 6ms/step - loss: 5.3427e-05\n",
            "Epoch 33/50\n",
            "372/372 [==============================] - 2s 6ms/step - loss: 5.2878e-05\n",
            "Epoch 34/50\n",
            "372/372 [==============================] - 2s 6ms/step - loss: 5.3022e-05\n",
            "Epoch 35/50\n",
            "372/372 [==============================] - 2s 6ms/step - loss: 5.1352e-05\n",
            "Epoch 36/50\n",
            "372/372 [==============================] - 2s 6ms/step - loss: 5.1530e-05\n",
            "Epoch 37/50\n",
            "372/372 [==============================] - 2s 6ms/step - loss: 5.2031e-05\n",
            "Epoch 38/50\n",
            "372/372 [==============================] - 2s 6ms/step - loss: 4.9598e-05\n",
            "Epoch 39/50\n",
            "372/372 [==============================] - 2s 6ms/step - loss: 4.8177e-05\n",
            "Epoch 40/50\n",
            "372/372 [==============================] - 3s 8ms/step - loss: 4.8803e-05\n",
            "Epoch 41/50\n",
            "372/372 [==============================] - 2s 6ms/step - loss: 4.8002e-05\n",
            "Epoch 42/50\n",
            "372/372 [==============================] - 2s 6ms/step - loss: 4.8139e-05\n",
            "Epoch 43/50\n",
            "372/372 [==============================] - 2s 6ms/step - loss: 4.7483e-05\n",
            "Epoch 44/50\n",
            "372/372 [==============================] - 2s 6ms/step - loss: 4.7428e-05\n",
            "Epoch 45/50\n",
            "372/372 [==============================] - 2s 6ms/step - loss: 4.6697e-05\n",
            "Epoch 46/50\n",
            "372/372 [==============================] - 2s 6ms/step - loss: 4.5900e-05\n",
            "Epoch 47/50\n",
            "372/372 [==============================] - 2s 6ms/step - loss: 4.5830e-05\n",
            "Epoch 48/50\n",
            "372/372 [==============================] - 2s 6ms/step - loss: 4.5925e-05\n",
            "Epoch 49/50\n",
            "372/372 [==============================] - 2s 6ms/step - loss: 4.4771e-05\n",
            "Epoch 50/50\n",
            "372/372 [==============================] - 2s 6ms/step - loss: 4.4451e-05\n"
          ]
        },
        {
          "output_type": "execute_result",
          "data": {
            "text/plain": [
              "<keras.callbacks.History at 0x7fa5d0458c10>"
            ]
          },
          "metadata": {},
          "execution_count": 59
        }
      ]
    },
    {
      "cell_type": "markdown",
      "source": [
        "## Predicting the values on Test set"
      ],
      "metadata": {
        "id": "xIHmGVP1XWaN"
      }
    },
    {
      "cell_type": "code",
      "source": [
        "df_total = df.loc[:,\"Close\"]\n",
        "inputs = df_total[len(df_total) - len(test_set) - n_steps :].values\n",
        "print(type(input))"
      ],
      "metadata": {
        "colab": {
          "base_uri": "https://localhost:8080/"
        },
        "id": "CiWhNqsiWf8q",
        "outputId": "3879d4db-81e0-43ad-cf84-3d58ad8c7918"
      },
      "execution_count": null,
      "outputs": [
        {
          "output_type": "stream",
          "name": "stdout",
          "text": [
            "<class 'method'>\n"
          ]
        }
      ]
    },
    {
      "cell_type": "code",
      "source": [
        "df_total[len(df_total) - len(test_set) - n_steps :].head()"
      ],
      "metadata": {
        "colab": {
          "base_uri": "https://localhost:8080/"
        },
        "id": "F9_7vu6RXUok",
        "outputId": "3ce410ed-e756-4de0-bf8d-cd04eb119a94"
      },
      "execution_count": null,
      "outputs": [
        {
          "output_type": "execute_result",
          "data": {
            "text/plain": [
              "Date\n",
              "2019-10-07    117.230003\n",
              "2019-10-08    117.580002\n",
              "2019-10-09    118.930000\n",
              "2019-10-10    119.610001\n",
              "2019-10-11    120.239998\n",
              "Name: Close, dtype: float64"
            ]
          },
          "metadata": {},
          "execution_count": 61
        }
      ]
    },
    {
      "cell_type": "code",
      "source": [
        "inputs[:5]"
      ],
      "metadata": {
        "colab": {
          "base_uri": "https://localhost:8080/"
        },
        "id": "ztYqNBduXe47",
        "outputId": "c8fde37b-9a19-47e0-f426-b0e4dcbc38f8"
      },
      "execution_count": null,
      "outputs": [
        {
          "output_type": "execute_result",
          "data": {
            "text/plain": [
              "array([117.230003, 117.580002, 118.93    , 119.610001, 120.239998])"
            ]
          },
          "metadata": {},
          "execution_count": 62
        }
      ]
    },
    {
      "cell_type": "code",
      "source": [
        "inputs = inputs.reshape(-1, 1)\n",
        "\n",
        "#scaling\n",
        "inputs = sc.transform(inputs)\n",
        "\n",
        "# Split into samples\n",
        "X_test, y_test = split_sequence(inputs, n_steps)\n",
        "\n",
        "# reshape\n",
        "X_test = X_test.reshape(X_test.shape[0], X_test.shape[1], features)\n",
        "\n",
        "#prediction\n",
        "predicted_stock_price = model_lstm.predict(X_test)\n",
        "\n",
        "#inverse transform the values\n",
        "predicted_stock_price = sc.inverse_transform(predicted_stock_price)"
      ],
      "metadata": {
        "colab": {
          "base_uri": "https://localhost:8080/"
        },
        "id": "MNE8qUHPXkPA",
        "outputId": "04619644-d1c7-4e6a-81c0-1257286531fa"
      },
      "execution_count": null,
      "outputs": [
        {
          "output_type": "stream",
          "name": "stdout",
          "text": [
            "20/20 [==============================] - 0s 3ms/step\n"
          ]
        }
      ]
    },
    {
      "cell_type": "code",
      "source": [
        "def plot_predictions(test, predicted):\n",
        "    plt.plot(test, color=\"gray\", label=\"Real\")\n",
        "    plt.plot(predicted, color=\"red\", label=\"Predicted\")\n",
        "    plt.title(\"Walmart Stock Price Prediction\")\n",
        "    plt.xlabel(\"Time\")\n",
        "    plt.ylabel(\"Walmart Stock Price\")\n",
        "    plt.legend()\n",
        "    plt.show()\n",
        "\n",
        "\n",
        "def return_rmse(test, predicted):\n",
        "    rmse = np.sqrt(mean_squared_error(test, predicted))\n",
        "    print(\"The root mean squared error is {:.2f}.\".format(rmse))"
      ],
      "metadata": {
        "id": "jRhctdGPXmWR"
      },
      "execution_count": null,
      "outputs": []
    },
    {
      "cell_type": "code",
      "source": [
        "plot_predictions(test_set,predicted_stock_price)"
      ],
      "metadata": {
        "colab": {
          "base_uri": "https://localhost:8080/",
          "height": 295
        },
        "id": "LLD7TyQhXpND",
        "outputId": "a3e2a796-64ae-4ffa-9926-456a1bedd335"
      },
      "execution_count": null,
      "outputs": [
        {
          "output_type": "display_data",
          "data": {
            "text/plain": [
              "<Figure size 432x288 with 1 Axes>"
            ],
            "image/png": "[encoded data removed]"
          },
          "metadata": {
            "needs_background": "light"
          }
        }
      ]
    },
    {
      "cell_type": "code",
      "source": [
        "from sklearn.metrics import mean_squared_error"
      ],
      "metadata": {
        "id": "o2e58R5YX7ho"
      },
      "execution_count": null,
      "outputs": []
    },
    {
      "cell_type": "code",
      "source": [
        "return_rmse(test_set,predicted_stock_price)"
      ],
      "metadata": {
        "colab": {
          "base_uri": "https://localhost:8080/"
        },
        "id": "y_6BqfNaX0V3",
        "outputId": "cc43f70f-300d-45d6-94dc-251efd31d9e2"
      },
      "execution_count": null,
      "outputs": [
        {
          "output_type": "stream",
          "name": "stdout",
          "text": [
            "The root mean squared error is 3.70.\n"
          ]
        }
      ]
    },
    {
      "cell_type": "markdown",
      "source": [
        "## Bidirection LSTM"
      ],
      "metadata": {
        "id": "0cwNYL-jYO13"
      }
    },
    {
      "cell_type": "code",
      "source": [
        "model_bid = Sequential()\n",
        "model_bid.add(Bidirectional(LSTM(units=150, activation=\"tanh\", input_shape=(n_steps, features))))\n",
        "model_bid.add(Dense(units=1))\n",
        "# Compiling the RNN\n",
        "model_bid.compile(optimizer=\"RMSprop\", loss=\"mse\")\n"
      ],
      "metadata": {
        "id": "lkF-xFVfYMFB"
      },
      "execution_count": null,
      "outputs": []
    },
    {
      "cell_type": "code",
      "source": [
        "model_bid.fit(X_train, y_train, epochs=50, batch_size=32)"
      ],
      "metadata": {
        "colab": {
          "base_uri": "https://localhost:8080/"
        },
        "id": "R_NyczXgYSLt",
        "outputId": "80a07b22-312e-4162-f87a-2571105610fc"
      },
      "execution_count": null,
      "outputs": [
        {
          "output_type": "stream",
          "name": "stdout",
          "text": [
            "Epoch 1/50\n",
            "372/372 [==============================] - 7s 11ms/step - loss: 0.0014\n",
            "Epoch 2/50\n",
            "372/372 [==============================] - 4s 11ms/step - loss: 3.9346e-04\n",
            "Epoch 3/50\n",
            "372/372 [==============================] - 4s 10ms/step - loss: 2.8525e-04\n",
            "Epoch 4/50\n",
            "372/372 [==============================] - 4s 10ms/step - loss: 2.2727e-04\n",
            "Epoch 5/50\n",
            "372/372 [==============================] - 4s 10ms/step - loss: 2.0298e-04\n",
            "Epoch 6/50\n",
            "372/372 [==============================] - 4s 10ms/step - loss: 1.7293e-04\n",
            "Epoch 7/50\n",
            "372/372 [==============================] - 4s 11ms/step - loss: 1.5495e-04\n",
            "Epoch 8/50\n",
            "372/372 [==============================] - 4s 11ms/step - loss: 1.4011e-04\n",
            "Epoch 9/50\n",
            "372/372 [==============================] - 4s 11ms/step - loss: 1.2251e-04\n",
            "Epoch 10/50\n",
            "372/372 [==============================] - 4s 10ms/step - loss: 1.1425e-04\n",
            "Epoch 11/50\n",
            "372/372 [==============================] - 4s 10ms/step - loss: 1.1237e-04\n",
            "Epoch 12/50\n",
            "372/372 [==============================] - 4s 10ms/step - loss: 1.0330e-04\n",
            "Epoch 13/50\n",
            "372/372 [==============================] - 4s 11ms/step - loss: 9.2074e-05\n",
            "Epoch 14/50\n",
            "372/372 [==============================] - 4s 11ms/step - loss: 9.5763e-05\n",
            "Epoch 15/50\n",
            "372/372 [==============================] - 4s 10ms/step - loss: 8.7805e-05\n",
            "Epoch 16/50\n",
            "372/372 [==============================] - 4s 11ms/step - loss: 8.6377e-05\n",
            "Epoch 17/50\n",
            "372/372 [==============================] - 4s 11ms/step - loss: 8.0215e-05\n",
            "Epoch 18/50\n",
            "372/372 [==============================] - 4s 10ms/step - loss: 7.9259e-05\n",
            "Epoch 19/50\n",
            "372/372 [==============================] - 4s 10ms/step - loss: 7.9327e-05\n",
            "Epoch 20/50\n",
            "372/372 [==============================] - 4s 10ms/step - loss: 7.3392e-05\n",
            "Epoch 21/50\n",
            "372/372 [==============================] - 4s 10ms/step - loss: 7.2322e-05\n",
            "Epoch 22/50\n",
            "372/372 [==============================] - 4s 11ms/step - loss: 6.8464e-05\n",
            "Epoch 23/50\n",
            "372/372 [==============================] - 4s 11ms/step - loss: 6.8376e-05\n",
            "Epoch 24/50\n",
            "372/372 [==============================] - 5s 12ms/step - loss: 6.6316e-05\n",
            "Epoch 25/50\n",
            "372/372 [==============================] - 4s 10ms/step - loss: 6.7129e-05\n",
            "Epoch 26/50\n",
            "372/372 [==============================] - 4s 10ms/step - loss: 6.4085e-05\n",
            "Epoch 27/50\n",
            "372/372 [==============================] - 4s 11ms/step - loss: 6.3173e-05\n",
            "Epoch 28/50\n",
            "372/372 [==============================] - 4s 10ms/step - loss: 6.1823e-05\n",
            "Epoch 29/50\n",
            "372/372 [==============================] - 4s 10ms/step - loss: 6.1464e-05\n",
            "Epoch 30/50\n",
            "372/372 [==============================] - 4s 10ms/step - loss: 6.1156e-05\n",
            "Epoch 31/50\n",
            "372/372 [==============================] - 5s 12ms/step - loss: 5.9583e-05\n",
            "Epoch 32/50\n",
            "372/372 [==============================] - 4s 10ms/step - loss: 5.6731e-05\n",
            "Epoch 33/50\n",
            "372/372 [==============================] - 4s 10ms/step - loss: 5.6992e-05\n",
            "Epoch 34/50\n",
            "372/372 [==============================] - 4s 10ms/step - loss: 5.6254e-05\n",
            "Epoch 35/50\n",
            "372/372 [==============================] - 4s 10ms/step - loss: 5.4887e-05\n",
            "Epoch 36/50\n",
            "372/372 [==============================] - 4s 10ms/step - loss: 5.4708e-05\n",
            "Epoch 37/50\n",
            "372/372 [==============================] - 4s 11ms/step - loss: 5.5164e-05\n",
            "Epoch 38/50\n",
            "372/372 [==============================] - 4s 11ms/step - loss: 5.2543e-05\n",
            "Epoch 39/50\n",
            "372/372 [==============================] - 4s 11ms/step - loss: 5.1274e-05\n",
            "Epoch 40/50\n",
            "372/372 [==============================] - 4s 10ms/step - loss: 5.2343e-05\n",
            "Epoch 41/50\n",
            "372/372 [==============================] - 4s 10ms/step - loss: 5.0161e-05\n",
            "Epoch 42/50\n",
            "372/372 [==============================] - 4s 10ms/step - loss: 5.0291e-05\n",
            "Epoch 43/50\n",
            "372/372 [==============================] - 4s 10ms/step - loss: 4.9392e-05\n",
            "Epoch 44/50\n",
            "372/372 [==============================] - 4s 11ms/step - loss: 4.9813e-05\n",
            "Epoch 45/50\n",
            "372/372 [==============================] - 4s 11ms/step - loss: 4.8922e-05\n",
            "Epoch 46/50\n",
            "372/372 [==============================] - 4s 10ms/step - loss: 4.7461e-05\n",
            "Epoch 47/50\n",
            "372/372 [==============================] - 4s 11ms/step - loss: 4.8071e-05\n",
            "Epoch 48/50\n",
            "372/372 [==============================] - 4s 11ms/step - loss: 4.6732e-05\n",
            "Epoch 49/50\n",
            "372/372 [==============================] - 4s 10ms/step - loss: 4.6298e-05\n",
            "Epoch 50/50\n",
            "372/372 [==============================] - 4s 11ms/step - loss: 4.6198e-05\n"
          ]
        },
        {
          "output_type": "execute_result",
          "data": {
            "text/plain": [
              "<keras.callbacks.History at 0x7fa571c62040>"
            ]
          },
          "metadata": {},
          "execution_count": 69
        }
      ]
    },
    {
      "cell_type": "code",
      "source": [
        "BID_predicted_stock_price = model_bid.predict(X_test)\n",
        "BID_predicted_stock_price = sc.inverse_transform(BID_predicted_stock_price)\n",
        "plot_predictions(test_set, BID_predicted_stock_price)"
      ],
      "metadata": {
        "colab": {
          "base_uri": "https://localhost:8080/",
          "height": 312
        },
        "id": "CIhEELdCYUo_",
        "outputId": "30402d68-f398-4393-eac1-72b1cedfeca0"
      },
      "execution_count": null,
      "outputs": [
        {
          "output_type": "stream",
          "name": "stdout",
          "text": [
            "20/20 [==============================] - 1s 4ms/step\n"
          ]
        },
        {
          "output_type": "display_data",
          "data": {
            "text/plain": [
              "<Figure size 432x288 with 1 Axes>"
            ],
            "image/png": "[encoded data removed]"
          },
          "metadata": {
            "needs_background": "light"
          }
        }
      ]
    },
    {
      "cell_type": "code",
      "source": [
        "return_rmse(test_set,BID_predicted_stock_price)"
      ],
      "metadata": {
        "colab": {
          "base_uri": "https://localhost:8080/"
        },
        "id": "-BfsyCpgYXdd",
        "outputId": "1a30cdf1-8afd-45a7-9292-b19c766aeb2f"
      },
      "execution_count": null,
      "outputs": [
        {
          "output_type": "stream",
          "name": "stdout",
          "text": [
            "The root mean squared error is 3.22.\n"
          ]
        }
      ]
    },
    {
      "cell_type": "markdown",
      "source": [
        "## GRU Model"
      ],
      "metadata": {
        "id": "mmavbkcVfgA5"
      }
    },
    {
      "cell_type": "code",
      "source": [
        "model_gru = Sequential()\n",
        "model_gru.add(GRU(units=150, activation=\"tanh\", input_shape=(n_steps, features)))\n",
        "model_gru.add(Dense(units=1))\n",
        "# Compiling the RNN\n",
        "model_gru.compile(optimizer=\"RMSprop\", loss=\"mse\")\n",
        "\n",
        "model_gru.summary()"
      ],
      "metadata": {
        "colab": {
          "base_uri": "https://localhost:8080/"
        },
        "id": "oYW2GsWRdjMz",
        "outputId": "53a78769-cb8d-478f-9bdd-363db503a8c6"
      },
      "execution_count": null,
      "outputs": [
        {
          "output_type": "stream",
          "name": "stdout",
          "text": [
            "Model: \"sequential_5\"\n",
            "_________________________________________________________________\n",
            " Layer (type)                Output Shape              Param #   \n",
            "=================================================================\n",
            " gru_1 (GRU)                 (None, 150)               68850     \n",
            "                                                                 \n",
            " dense_5 (Dense)             (None, 1)                 151       \n",
            "                                                                 \n",
            "=================================================================\n",
            "Total params: 69,001\n",
            "Trainable params: 69,001\n",
            "Non-trainable params: 0\n",
            "_________________________________________________________________\n"
          ]
        }
      ]
    },
    {
      "cell_type": "code",
      "source": [
        "model_gru.fit(X_train, y_train, epochs=50, batch_size=32)"
      ],
      "metadata": {
        "colab": {
          "base_uri": "https://localhost:8080/"
        },
        "id": "7ChMTGxvfkzf",
        "outputId": "18579152-e959-4316-b7a6-fda4e15c5e82"
      },
      "execution_count": null,
      "outputs": [
        {
          "output_type": "stream",
          "name": "stdout",
          "text": [
            "Epoch 1/50\n",
            "372/372 [==============================] - 4s 6ms/step - loss: 0.0012\n",
            "Epoch 2/50\n",
            "372/372 [==============================] - 2s 6ms/step - loss: 2.6176e-04\n",
            "Epoch 3/50\n",
            "372/372 [==============================] - 2s 6ms/step - loss: 1.9862e-04\n",
            "Epoch 4/50\n",
            "372/372 [==============================] - 2s 6ms/step - loss: 1.6018e-04\n",
            "Epoch 5/50\n",
            "372/372 [==============================] - 2s 6ms/step - loss: 1.4051e-04\n",
            "Epoch 6/50\n",
            "372/372 [==============================] - 2s 6ms/step - loss: 1.2110e-04\n",
            "Epoch 7/50\n",
            "372/372 [==============================] - 2s 6ms/step - loss: 1.0901e-04\n",
            "Epoch 8/50\n",
            "372/372 [==============================] - 2s 6ms/step - loss: 1.0071e-04\n",
            "Epoch 9/50\n",
            "372/372 [==============================] - 2s 6ms/step - loss: 9.3406e-05\n",
            "Epoch 10/50\n",
            "372/372 [==============================] - 2s 6ms/step - loss: 8.7843e-05\n",
            "Epoch 11/50\n",
            "372/372 [==============================] - 2s 6ms/step - loss: 8.4261e-05\n",
            "Epoch 12/50\n",
            "372/372 [==============================] - 2s 6ms/step - loss: 8.2463e-05\n",
            "Epoch 13/50\n",
            "372/372 [==============================] - 2s 6ms/step - loss: 7.4710e-05\n",
            "Epoch 14/50\n",
            "372/372 [==============================] - 2s 6ms/step - loss: 7.4108e-05\n",
            "Epoch 15/50\n",
            "372/372 [==============================] - 2s 6ms/step - loss: 7.1622e-05\n",
            "Epoch 16/50\n",
            "372/372 [==============================] - 2s 6ms/step - loss: 6.8462e-05\n",
            "Epoch 17/50\n",
            "372/372 [==============================] - 2s 6ms/step - loss: 6.6528e-05\n",
            "Epoch 18/50\n",
            "372/372 [==============================] - 2s 6ms/step - loss: 6.4048e-05\n",
            "Epoch 19/50\n",
            "372/372 [==============================] - 2s 6ms/step - loss: 6.4869e-05\n",
            "Epoch 20/50\n",
            "372/372 [==============================] - 2s 6ms/step - loss: 5.9763e-05\n",
            "Epoch 21/50\n",
            "372/372 [==============================] - 2s 6ms/step - loss: 5.9822e-05\n",
            "Epoch 22/50\n",
            "372/372 [==============================] - 2s 6ms/step - loss: 5.7046e-05\n",
            "Epoch 23/50\n",
            "372/372 [==============================] - 2s 6ms/step - loss: 5.7026e-05\n",
            "Epoch 24/50\n",
            "372/372 [==============================] - 2s 6ms/step - loss: 5.5838e-05\n",
            "Epoch 25/50\n",
            "372/372 [==============================] - 2s 6ms/step - loss: 5.5625e-05\n",
            "Epoch 26/50\n",
            "372/372 [==============================] - 2s 6ms/step - loss: 5.4105e-05\n",
            "Epoch 27/50\n",
            "372/372 [==============================] - 2s 6ms/step - loss: 5.3418e-05\n",
            "Epoch 28/50\n",
            "372/372 [==============================] - 2s 6ms/step - loss: 5.2197e-05\n",
            "Epoch 29/50\n",
            "372/372 [==============================] - 2s 6ms/step - loss: 5.1895e-05\n",
            "Epoch 30/50\n",
            "372/372 [==============================] - 2s 6ms/step - loss: 5.1014e-05\n",
            "Epoch 31/50\n",
            "372/372 [==============================] - 2s 6ms/step - loss: 5.0571e-05\n",
            "Epoch 32/50\n",
            "372/372 [==============================] - 2s 6ms/step - loss: 4.8332e-05\n",
            "Epoch 33/50\n",
            "372/372 [==============================] - 2s 6ms/step - loss: 4.7866e-05\n",
            "Epoch 34/50\n",
            "372/372 [==============================] - 2s 6ms/step - loss: 4.7672e-05\n",
            "Epoch 35/50\n",
            "372/372 [==============================] - 2s 6ms/step - loss: 4.6875e-05\n",
            "Epoch 36/50\n",
            "372/372 [==============================] - 2s 6ms/step - loss: 4.7178e-05\n",
            "Epoch 37/50\n",
            "372/372 [==============================] - 2s 6ms/step - loss: 4.7549e-05\n",
            "Epoch 38/50\n",
            "372/372 [==============================] - 2s 6ms/step - loss: 4.5894e-05\n",
            "Epoch 39/50\n",
            "372/372 [==============================] - 2s 6ms/step - loss: 4.4279e-05\n",
            "Epoch 40/50\n",
            "372/372 [==============================] - 2s 6ms/step - loss: 4.5470e-05\n",
            "Epoch 41/50\n",
            "372/372 [==============================] - 2s 6ms/step - loss: 4.4131e-05\n",
            "Epoch 42/50\n",
            "372/372 [==============================] - 3s 8ms/step - loss: 4.4641e-05\n",
            "Epoch 43/50\n",
            "372/372 [==============================] - 2s 6ms/step - loss: 4.4163e-05\n",
            "Epoch 44/50\n",
            "372/372 [==============================] - 2s 6ms/step - loss: 4.4371e-05\n",
            "Epoch 45/50\n",
            "372/372 [==============================] - 2s 6ms/step - loss: 4.3410e-05\n",
            "Epoch 46/50\n",
            "372/372 [==============================] - 2s 6ms/step - loss: 4.3280e-05\n",
            "Epoch 47/50\n",
            "372/372 [==============================] - 2s 6ms/step - loss: 4.2689e-05\n",
            "Epoch 48/50\n",
            "372/372 [==============================] - 2s 6ms/step - loss: 4.2753e-05\n",
            "Epoch 49/50\n",
            "372/372 [==============================] - 2s 6ms/step - loss: 4.2757e-05\n",
            "Epoch 50/50\n",
            "372/372 [==============================] - 2s 6ms/step - loss: 4.2432e-05\n"
          ]
        },
        {
          "output_type": "execute_result",
          "data": {
            "text/plain": [
              "<keras.callbacks.History at 0x7fa56f43e970>"
            ]
          },
          "metadata": {},
          "execution_count": 73
        }
      ]
    },
    {
      "cell_type": "code",
      "source": [
        "GRU_predicted_stock_price = model_gru.predict(X_test)\n",
        "GRU_predicted_stock_price = sc.inverse_transform(GRU_predicted_stock_price)\n",
        "plot_predictions(test_set, GRU_predicted_stock_price)"
      ],
      "metadata": {
        "colab": {
          "base_uri": "https://localhost:8080/",
          "height": 312
        },
        "id": "YwIR2LX6fn83",
        "outputId": "0ce7c27b-934b-465e-9835-dd1997e6de6f"
      },
      "execution_count": null,
      "outputs": [
        {
          "output_type": "stream",
          "name": "stdout",
          "text": [
            "20/20 [==============================] - 0s 3ms/step\n"
          ]
        },
        {
          "output_type": "display_data",
          "data": {
            "text/plain": [
              "<Figure size 432x288 with 1 Axes>"
            ],
            "image/png": "[encoded data removed]"
          },
          "metadata": {
            "needs_background": "light"
          }
        }
      ]
    },
    {
      "cell_type": "code",
      "source": [
        "return_rmse(test_set,GRU_predicted_stock_price)"
      ],
      "metadata": {
        "colab": {
          "base_uri": "https://localhost:8080/"
        },
        "id": "arwxX5sGfqVM",
        "outputId": "09f328b2-ebd4-4f8f-b7e8-46a8ff02f5f4"
      },
      "execution_count": null,
      "outputs": [
        {
          "output_type": "stream",
          "name": "stdout",
          "text": [
            "The root mean squared error is 2.43.\n"
          ]
        }
      ]
    },
    {
      "cell_type": "markdown",
      "source": [
        "## The best model is GRU with rmse 2.43"
      ],
      "metadata": {
        "id": "le4mEK6hhMOl"
      }
    },
    {
      "cell_type": "code",
      "source": [],
      "metadata": {
        "id": "mh6TfHTPg8fF"
      },
      "execution_count": null,
      "outputs": []
    }
  ]
}